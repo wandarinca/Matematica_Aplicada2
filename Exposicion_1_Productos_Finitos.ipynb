{
 "cells": [
  {
   "cell_type": "markdown",
   "metadata": {
    "slideshow": {
     "slide_type": "slide"
    }
   },
   "source": [
    "# Productos infinitos"
   ]
  },
  {
   "cell_type": "markdown",
   "metadata": {},
   "source": [
    "Considere una sucesión de productos de factores positivos $f_{1}, f_{2}, f_{3}, ... f_{n} $ Y que tenemos que $ f_{i} > 0$\n",
    "\n",
    "$i = 1,2,3,...,n$ Tenemos que:\n",
    "\n",
    "\n",
    "$\n",
    "\\prod_{i=1}^{n}f_{i}=f_{1}\\cdot f_{2}\\cdot f_{3} \n",
    "$\n",
    "\n",
    "Investigamos el límite\n",
    "\n",
    "$\\lim_{n \\to \\infty}p_{n} = P$\n",
    "\n",
    "- Si P es finito **diferente de 0** entonces el producto infinito es **convergente.**\n",
    "\n",
    "- Si P es infinito ó 0, el producto infinito es **divergente**\n",
    "\n",
    "El producto divergirá a infinito si \n",
    "\n",
    "$\\lim_{n \\to \\infty}f_{n} > 1$\n",
    "\n",
    "ó a cero para\n",
    "\n",
    "$\\lim_{n \\to \\infty}f_{n} < 1 $ (y mayor que 0)"
   ]
  },
  {
   "cell_type": "markdown",
   "metadata": {
    "slideshow": {
     "slide_type": "slide"
    }
   },
   "source": [
    "# Relación entre sumas y productos infinitos"
   ]
  },
  {
   "cell_type": "markdown",
   "metadata": {},
   "source": [
    "Se puede escribir un producto infinito como:\n",
    "\n",
    "\n",
    "$ \\prod_{n=1}^{\\infty}(1 +a_{n})$\n",
    "\n",
    "\n",
    "La relación entre sumas y productos infinitos está dada por:\n",
    "\n",
    "$\n",
    "ln \\prod_{n=1}^{\\infty}(1 +a_{n})= \\sum_{n=1}^{\\infty}ln(1 +a_{n})\n",
    "$\n",
    "\n",
    "## Convergencia del producto infinito\n",
    "\n",
    "- Si $ 0 \\leq a_{n} \\leq 1 $  el producto infinito **converge** si $\\sum_{n=1}^{\\infty}a_{n}$ converge. El recíproco se cumple.\n",
    "\n",
    "Si hacemos series de Taylor sabemos que:\n",
    "\n",
    "$1 + a_{n} \\leq e^{a_{n}}$\n",
    "\n",
    "Por lo tanto $p_{n}\\leq e^{S_{n}}$ y cuando $n\\to  \\infty$\n",
    "\n",
    "$\n",
    "\\prod_{n=1}^{\\infty}(1 +a_{n}) \\leq exp \\sum_{n=1}^{\\infty}a_{n}\n",
    "$\n",
    "\n",
    "Para un límite inferior para el producto infinito note que: \n",
    "\n",
    "$p_{n} = 1+ \\sum_{i=1}^{n}a_{i} + \\sum_{i=1}^{n} \\sum_{j=1}^{n}a_{i}a_{j} + ... \\geq S_{n}$"
   ]
  },
  {
   "cell_type": "code",
   "execution_count": 1,
   "metadata": {
    "collapsed": false,
    "slideshow": {
     "slide_type": "skip"
    }
   },
   "outputs": [
    {
     "name": "stderr",
     "output_type": "stream",
     "text": [
      "/opt/anaconda2/lib/python2.7/site-packages/matplotlib/font_manager.py:273: UserWarning: Matplotlib is building the font cache using fc-list. This may take a moment.\n",
      "  warnings.warn('Matplotlib is building the font cache using fc-list. This may take a moment.')\n"
     ]
    }
   ],
   "source": [
    "import numpy as np\n",
    "import matplotlib.pyplot as plt\n",
    "%matplotlib inline"
   ]
  },
  {
   "cell_type": "code",
   "execution_count": 2,
   "metadata": {
    "collapsed": true,
    "slideshow": {
     "slide_type": "skip"
    }
   },
   "outputs": [],
   "source": [
    "def plot_series(sn, pn, n):\n",
    "    esn = np.exp(sn)\n",
    "    plt.scatter(n, esn, c = \"r\", label = \"e^Sn\")\n",
    "    plt.scatter(n, pn, c = \"b\", label = \"Productos Parciales\")\n",
    "    plt.scatter(n, sn, c = \"g\", label = \"Sumas parciales\")\n",
    "    plt.legend()\n",
    "    plt.show()\n",
    "    "
   ]
  },
  {
   "cell_type": "code",
   "execution_count": 3,
   "metadata": {
    "collapsed": false,
    "slideshow": {
     "slide_type": "skip"
    }
   },
   "outputs": [],
   "source": [
    "def geometric(a, r, n):\n",
    "    \"\"\"Geometric series.\n",
    "    \n",
    "    Parameters:\n",
    "    a -- first term\n",
    "    r -- ratio\n",
    "    n -- number of terms\n",
    "    \n",
    "    Returns:\n",
    "    \n",
    "    Sn: Array of parcial summations.\n",
    "    Pn: Array of parcial products.\n",
    "    \n",
    "    \"\"\"\n",
    "    Sn = []\n",
    "    Pn = []\n",
    "    an = []\n",
    "    for i in range(n):\n",
    "        an.append(a*(r**i))\n",
    "        \n",
    "    #print an\n",
    "    p_i = 1\n",
    "    #print  \"an[i]\", \"     p_i\", \"     s_i\"\n",
    "    for i in range(n):\n",
    "        s_i = a*(1.0-(r**i))/(1.0-r)\n",
    "        p_i *= (1+an[i])\n",
    "        #print  an[i], p_i, s_i\n",
    "        Sn.append(s_i)\n",
    "        Pn.append(p_i)\n",
    "    \n",
    "    return an, Sn, Pn  "
   ]
  },
  {
   "cell_type": "code",
   "execution_count": 4,
   "metadata": {
    "collapsed": false,
    "slideshow": {
     "slide_type": "subslide"
    }
   },
   "outputs": [
    {
     "data": {
      "image/png": "[encoded data removed]",
      "text/plain": [
       "<matplotlib.figure.Figure at 0x7ff37a223910>"
      ]
     },
     "metadata": {},
     "output_type": "display_data"
    }
   ],
   "source": [
    "a = 1.\n",
    "r = .8 # |r| <1\n",
    "n = 150\n",
    "an, sn, pn = geometric(a, r, n)\n",
    "plot_series(sn, pn, range(n))"
   ]
  },
  {
   "cell_type": "markdown",
   "metadata": {
    "slideshow": {
     "slide_type": "slide"
    }
   },
   "source": [
    "# Ejemplo: Función seno\n",
    "\n",
    "Un polinomio $P_{n}(x)$  con n raices reales puede ser escrito como el producto de n factores.\n",
    "\n",
    "$P_{n}(x) = (x-x_{1})(x-x_{2})...(x-x_{n}) =  \\prod_{i=1}^{n}(x -x_{i})$ (1)\n",
    "\n",
    "\n",
    "De la misma manera se espera que una función con infinitas raices pueda ser escrita como un producto infinito. Este es el caso para las funciones trigonometricas. Tenemos una representacion de productos infinitos para la función seno.\n",
    "\n",
    "<a href=\"http://www.ual.es/~edeamo/capitulo4_ac/vc0407.pdf\">link</a>\n",
    "\n",
    "La siguiente expresión nos da  más información de los 0's de la función \n",
    "\n",
    "$sin x = x \\prod_{n=1}^{\\infty}(1-\\frac{x^{2}}{n^{2}\\pi^{2}})$ (2)\n",
    "\n",
    "Esta expresion es por la expansión de productos de funciones \"enteras\" [1]\n",
    "\n",
    "[1] Funciones analiticas (holomorfas) para un conjunto finito de numeros complejos. p 462 Arfken."
   ]
  },
  {
   "cell_type": "markdown",
   "metadata": {
    "collapsed": true,
    "slideshow": {
     "slide_type": "slide"
    }
   },
   "source": [
    "# Convergencia de $Seno(x)$\n",
    "\n",
    "Con la expresión (2) podemos saber la convergencia ya que $a_{n} = \\frac{x^{2}}{n^{2}\\pi^{2}}$\n",
    "\n",
    "$\\sum_{n=1}^{\\infty}a_{n} = \\frac{x^{2}}{\\pi^{2}} \\sum_{n=1}^{\\infty}n^{-2}= \\frac{x^{2}}{\\pi^{2}} \\zeta (2) = \\frac{x^{2}}{6}$\n",
    "\n",
    "Y así, $sen(x)$ converge para todo x finito."
   ]
  },
  {
   "cell_type": "code",
   "execution_count": 5,
   "metadata": {
    "collapsed": false,
    "slideshow": {
     "slide_type": "skip"
    }
   },
   "outputs": [],
   "source": [
    "z =  np.e**(1j*180)\n",
    "#z =  np.e**(1j*2*np.pi)"
   ]
  },
  {
   "cell_type": "code",
   "execution_count": 15,
   "metadata": {
    "collapsed": false,
    "slideshow": {
     "slide_type": "skip"
    }
   },
   "outputs": [
    {
     "data": {
      "text/plain": [
       "(-0.5984600690578581-0.8011526357338304j)"
      ]
     },
     "execution_count": 15,
     "metadata": {},
     "output_type": "execute_result"
    }
   ],
   "source": [
    "z"
   ]
  },
  {
   "cell_type": "code",
   "execution_count": 16,
   "metadata": {
    "collapsed": false,
    "slideshow": {
     "slide_type": "skip"
    }
   },
   "outputs": [
    {
     "name": "stdout",
     "output_type": "stream",
     "text": [
      "1.0\n",
      "0.785398163397\n"
     ]
    }
   ],
   "source": [
    "mag_z = (z.imag**2+z.real**2)**0.5\n",
    "print mag_z\n",
    "fase_z = np.arctan(z.imag/z.imag)\n",
    "print fase_z"
   ]
  },
  {
   "cell_type": "code",
   "execution_count": 19,
   "metadata": {
    "collapsed": false,
    "slideshow": {
     "slide_type": "skip"
    }
   },
   "outputs": [
    {
     "data": {
      "text/plain": [
       "-45.0"
      ]
     },
     "execution_count": 19,
     "metadata": {},
     "output_type": "execute_result"
    }
   ],
   "source": [
    "np.arctan(-1)*180/np.pi"
   ]
  },
  {
   "cell_type": "code",
   "execution_count": null,
   "metadata": {
    "collapsed": true,
    "slideshow": {
     "slide_type": "skip"
    }
   },
   "outputs": [],
   "source": []
  }
 ],
 "metadata": {
  "celltoolbar": "Slideshow",
  "kernelspec": {
   "display_name": "Anaconda 2",
   "language": "python",
   "name": "python2"
  },
  "language_info": {
   "codemirror_mode": {
    "name": "ipython",
    "version": 2
   },
   "file_extension": ".py",
   "mimetype": "text/x-python",
   "name": "python",
   "nbconvert_exporter": "python",
   "pygments_lexer": "ipython2",
   "version": "2.7.12"
  }
 },
 "nbformat": 4,
 "nbformat_minor": 0
}
