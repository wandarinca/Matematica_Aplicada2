{
 "cells": [
  {
   "cell_type": "markdown",
   "metadata": {
    "slideshow": {
     "slide_type": "slide"
    }
   },
   "source": [
    "# Productos infinitos\n",
    "\n",
    "Considere una sucesión de productos de factores positivos $f_{1}, f_{2}, f_{3}, ... f_{n} $  tal que $ f_{i} > 0$\n",
    "\n",
    "$i = 1,2,3,...,n$ \n",
    "\n",
    "Investigamos el límite de la productoria:\n",
    "\n",
    "\n",
    "<center>$\\prod_{i=1}^{n}f_{i}=f_{1}\\cdot f_{2}\\cdot f_{3} ...\\cdot f_{n}$</center>\n",
    "\n",
    "\n",
    "> Si P es finito **diferente de 0** entonces el producto infinito es **convergente.**\n",
    "\n",
    "> Si P es infinito ó 0, el producto infinito es **divergente**\n",
    "\n",
    "$\\lim_{n \\to \\infty}p_{n} = P$\n",
    "\n",
    "\n",
    "El producto divergirá a infinito si \n",
    "\n",
    "$\\lim_{n \\to \\infty}f_{n} > 1$ , $P \\to \\infty$\n",
    "\n",
    "ó a cero para\n",
    "\n",
    "$\\lim_{n \\to \\infty}f_{n} < 1 $ (y mayor que 0), $P \\to 0$"
   ]
  },
  {
   "cell_type": "markdown",
   "metadata": {
    "slideshow": {
     "slide_type": "slide"
    }
   },
   "source": [
    "# Relación entre sumas y productos infinitos\n",
    "\n",
    "Se puede escribir un producto infinito como:\n",
    "\n",
    "\n",
    ">$ \\prod_{n=1}^{\\infty}(1 +a_{n})$\n",
    "\n",
    "\n",
    "La relación entre sumas y productos infinitos está dada por las propiedades de los logaritmos:\n",
    "\n",
    "\n",
    "<center>$ln \\prod_{n=1}^{\\infty}(1 +a_{n})= \\sum_{n=1}^{\\infty}ln(1 +a_{n})$</center>\n",
    "\n",
    "## Convergencia del producto infinito\n",
    "\n",
    "- Si $ 0 \\leq a_{n} \\leq 1 $  el producto infinito **converge** si $\\sum_{n=1}^{\\infty}a_{n}$ converge. El recíproco se cumple.\n",
    "\n",
    "\n",
    " $p_{n}=1+a_{n}$\n",
    "\n",
    "Si hacemos series de Taylor sabemos que:\n",
    "\n",
    "$1 + a_{n} \\leq e^{a_{n}}$\n",
    "\n",
    "Por lo tanto $p_{n}\\leq e^{S_{n}}$ y cuando $n\\to  \\infty$ tenemos un **límite superior**\n",
    "\n",
    "$\n",
    "\\prod_{n=1}^{\\infty}(1 +a_{n}) \\leq exp \\sum_{n=1}^{\\infty}a_{n}\n",
    "$\n",
    "\n",
    "Para un límite inferior para el producto infinito note que: \n",
    "\n",
    "$p_{n} = 1+ \\sum_{i=1}^{n}a_{i} + \\sum_{i=1}^{n} \\sum_{j=1}^{n}a_{i}a_{j} + ... \\geq S_{n}$\n",
    "\n",
    "\n",
    ">$1+ S_{n} \\leq p_{n} \\leq e^{S_{n}}$"
   ]
  },
  {
   "cell_type": "code",
   "execution_count": 12,
   "metadata": {
    "collapsed": false,
    "slideshow": {
     "slide_type": "skip"
    }
   },
   "outputs": [],
   "source": [
    "import numpy as np\n",
    "import matplotlib.pyplot as plt\n",
    "%matplotlib inline"
   ]
  },
  {
   "cell_type": "code",
   "execution_count": 13,
   "metadata": {
    "collapsed": true,
    "slideshow": {
     "slide_type": "skip"
    }
   },
   "outputs": [],
   "source": [
    "def plot_series(sn, pn, n):\n",
    "    esn = np.exp(sn)\n",
    "    plt.title(\"Productos y Sumas infinitos\")\n",
    "    plt.scatter(n, esn, c = \"r\", label = \"e^Sn\")\n",
    "    plt.scatter(n, pn, c = \"b\", label = \"Productos Parciales\")\n",
    "    plt.scatter(n, sn, c = \"g\", label = \"Sumas parciales\")\n",
    "    plt.xlabel(\"n\")\n",
    "    plt.ylabel(\"Sn, pn y e^sn\")\n",
    "    plt.legend()\n",
    "    plt.show()\n",
    "    "
   ]
  },
  {
   "cell_type": "code",
   "execution_count": 14,
   "metadata": {
    "collapsed": false,
    "slideshow": {
     "slide_type": "skip"
    }
   },
   "outputs": [],
   "source": [
    "def geometric(a, r, n):\n",
    "    \"\"\"Geometric series.\n",
    "    \n",
    "    Parameters:\n",
    "    a -- first term\n",
    "    r -- ratio\n",
    "    n -- number of terms\n",
    "    \n",
    "    Returns:\n",
    "    \n",
    "    Sn: Array of parcial summations.\n",
    "    Pn: Array of parcial products.\n",
    "    \n",
    "    \"\"\"\n",
    "    Sn = []\n",
    "    Pn = []\n",
    "    an = []\n",
    "    for i in range(n):\n",
    "        an.append(a*(r**i))\n",
    "        \n",
    "    #print an\n",
    "    p_i = 1\n",
    "    #print  \"an[i]\", \"     p_i\", \"     s_i\"\n",
    "    for i in range(n):\n",
    "        s_i = a*(1.0-(r**i))/(1.0-r)\n",
    "        p_i *= (1+an[i])\n",
    "        #print  an[i], p_i, s_i\n",
    "        Sn.append(s_i)\n",
    "        Pn.append(p_i)\n",
    "    \n",
    "    return an, Sn, Pn  "
   ]
  },
  {
   "cell_type": "code",
   "execution_count": 15,
   "metadata": {
    "collapsed": false,
    "slideshow": {
     "slide_type": "subslide"
    }
   },
   "outputs": [
    {
     "data": {
      "image/png": "[encoded data removed]",
      "text/plain": [
       "<matplotlib.figure.Figure at 0x7f7c21f2e550>"
      ]
     },
     "metadata": {},
     "output_type": "display_data"
    }
   ],
   "source": [
    "a = 1.\n",
    "r = .8 # |r| <1\n",
    "n = 150\n",
    "an, sn, pn = geometric(a, r, n)\n",
    "plot_series(sn, pn, range(n))"
   ]
  },
  {
   "cell_type": "markdown",
   "metadata": {
    "slideshow": {
     "slide_type": "slide"
    }
   },
   "source": [
    "# Expansión de polos para funciones meromórficas \n",
    "## Teorema de Mittag-Leffer\n",
    "\n",
    "En vez de expndir un solo punto regular (Taylor) o alrededor de una singularidad (Laurent). Asuma que $f(z)$ es analítica en z = 0 y meromórfica- Sus polos en $z_{1},z_{2},z_{3},...$ con residuos $b_{1},b_{2},b_{3},...$ Ordenamos los polos de manera que $0\\leq |z_{1}|\\leq |z_{2}|\\leq |z_{3}|\\leq...$ Asuma que en el limite con z grande $|\\frac{f(z)}{z}|\\to 0$\n",
    "\n",
    "\n",
    "<center>$f(z) = f(0)+\\sum_{n=1}^{\\infty}b_{n}(\\frac{1}{z-z_{n}}+\\frac{1}{z_{n}})$</center>"
   ]
  },
  {
   "cell_type": "markdown",
   "metadata": {
    "slideshow": {
     "slide_type": "slide"
    }
   },
   "source": [
    "# Expansion de polos $\\to$ Expansión de productos !\n",
    "\n",
    "## Derivada logarítmica\n",
    "\n",
    "Si tenemos $f(z)$ una función entera, la derivada logarítmica será meromorfica con una expansión en un polo.\n",
    "\n",
    "Si $f$ tiene un cero en $z = z_{n}$ podemos escribir f como:\n",
    "\n",
    "$f(z) = (z-z_{n})g(z)$\n",
    "\n",
    "Su derivada logarítmica :\n",
    "\n",
    "$\\frac{f'(z)}{f(z)}= (z-z_{n})^{-1}+\\frac{g'(z)}{g(z)} $ \n",
    "\n",
    "Tiene un polo simple en $z = z_{n}$, residuo 1 y $\\frac{g'}{g}$ es analítica ahí. Si $\\frac{f'}{f}$ satisface las condiciones que llevaron a la expansión de productos.\n",
    "\n",
    "$\\frac{f'(z)}{f(z)}= \\frac{f'(0)}{f(0)}+\\sum_{n=1}^{\\infty}\\frac{1}{z_{n}}+\\frac{1}{z-z_{n}} $ "
   ]
  },
  {
   "cell_type": "markdown",
   "metadata": {
    "slideshow": {
     "slide_type": "slide"
    }
   },
   "source": [
    "# Expansión de productos\n",
    "\n",
    "Se espera que una función con infinitas raices pueda ser escrita como un producto infinito. Este es el caso para las funciones trigonométricas.\n",
    "\n",
    "Considere la **función entera** (holomorfa en todo el plano complejo) $f(z)$. Si es entera entonces la derivada logarítmica que es la función $\\frac{f'(z)}{f(z)}$ será meromórfica, y sus polos serán simples. Si $z_{n}$ son los polos que serán usados para expandir la función como productos, usando el teorema de Mittag-Leffer para expandir sus polos:\n",
    "\n",
    "<center>$\\frac{f'(z)}{f(z)} = \\frac{f'(0)}{f(0)} + \\sum_{n=1}^{\\infty} (\\frac{1}{z-z_{n}}+\\frac{1}{z_{n}}) $</center>\n",
    "\n",
    "\n",
    "<center>$\\int_{0}^{z}\\frac{f'(z)}{f(z)} = \\ln (f(z)) -\\ln (f(0))$</center>\n",
    "\n",
    "De aquí usando propiedades de los logaritmos despejamos f(z):\n",
    "\n",
    "<center>$f(z)= f(0)e^{\\frac{z f'(0)}{f(0)}}\\prod_{n=1}^{\\infty}(1-\\frac{z}{z_{n}})e^{\\frac{z}{z_{n}}}$</center>\n",
    "\n",
    "p417"
   ]
  },
  {
   "cell_type": "markdown",
   "metadata": {
    "slideshow": {
     "slide_type": "slide"
    }
   },
   "source": [
    "# Ejemplo función $Sen(x)$\n",
    "\n",
    "Tiene los polos $z_{n}$ en $n\\pi$\n",
    "\n",
    "$sen(z) =z\\prod_{n=1, n\\neq0}^{\\infty}(1-\\frac{z}{n\\pi})e^{\\frac{z}{n\\pi}}$\n",
    "\n",
    "Esta fórmula se obtiene expandiendo $\\frac{sen(z)}{z}$ de modo que $f(0)= 1$ y $f'(0)=0$"
   ]
  },
  {
   "cell_type": "markdown",
   "metadata": {
    "collapsed": true,
    "slideshow": {
     "slide_type": "skip"
    }
   },
   "source": [
    "# Convergencia de $Sen(x)$\n",
    "\n",
    "Con la expresión (2) podemos saber la convergencia ya que $a_{n} = \\frac{x^{2}}{n^{2}\\pi^{2}}$\n",
    "\n",
    "$\\sum_{n=1}^{\\infty}a_{n} = \\frac{x^{2}}{\\pi^{2}} \\sum_{n=1}^{\\infty}n^{-2}= \\frac{x^{2}}{\\pi^{2}} \\zeta (2) = \\frac{x^{2}}{6}$\n",
    "\n",
    "Y así, $sen(x)$ converge para todo x finito."
   ]
  },
  {
   "cell_type": "code",
   "execution_count": 5,
   "metadata": {
    "collapsed": false,
    "slideshow": {
     "slide_type": "skip"
    }
   },
   "outputs": [],
   "source": [
    "z =  np.e**(1j*180)\n",
    "#z =  np.e**(1j*2*np.pi)"
   ]
  },
  {
   "cell_type": "code",
   "execution_count": 15,
   "metadata": {
    "collapsed": false,
    "slideshow": {
     "slide_type": "skip"
    }
   },
   "outputs": [
    {
     "data": {
      "text/plain": [
       "(-0.5984600690578581-0.8011526357338304j)"
      ]
     },
     "execution_count": 15,
     "metadata": {},
     "output_type": "execute_result"
    }
   ],
   "source": [
    "z"
   ]
  },
  {
   "cell_type": "code",
   "execution_count": 16,
   "metadata": {
    "collapsed": false,
    "slideshow": {
     "slide_type": "skip"
    }
   },
   "outputs": [
    {
     "name": "stdout",
     "output_type": "stream",
     "text": [
      "1.0\n",
      "0.785398163397\n"
     ]
    }
   ],
   "source": [
    "mag_z = (z.imag**2+z.real**2)**0.5\n",
    "print mag_z\n",
    "fase_z = np.arctan(z.imag/z.imag)\n",
    "print fase_z"
   ]
  },
  {
   "cell_type": "code",
   "execution_count": 19,
   "metadata": {
    "collapsed": false,
    "slideshow": {
     "slide_type": "skip"
    }
   },
   "outputs": [
    {
     "data": {
      "text/plain": [
       "-45.0"
      ]
     },
     "execution_count": 19,
     "metadata": {},
     "output_type": "execute_result"
    }
   ],
   "source": [
    "np.arctan(-1)*180/np.pi"
   ]
  },
  {
   "cell_type": "markdown",
   "metadata": {
    "collapsed": true,
    "slideshow": {
     "slide_type": "skip"
    }
   },
   "source": [
    "jupyter  nbconvert Exposicion_1_Productos_Infinitos.ipynb --to slides --post serve\n",
    "<a href=\"http://www.ual.es/~edeamo/capitulo4_ac/vc0407.pdf\">link</a>"
   ]
  }
 ],
 "metadata": {
  "celltoolbar": "Slideshow",
  "kernelspec": {
   "display_name": "Anaconda 2",
   "language": "python",
   "name": "python2"
  },
  "language_info": {
   "codemirror_mode": {
    "name": "ipython",
    "version": 2
   },
   "file_extension": ".py",
   "mimetype": "text/x-python",
   "name": "python",
   "nbconvert_exporter": "python",
   "pygments_lexer": "ipython2",
   "version": "2.7.12"
  }
 },
 "nbformat": 4,
 "nbformat_minor": 0
}
